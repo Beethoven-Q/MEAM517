{
  "nbformat": 4,
  "nbformat_minor": 0,
  "metadata": {
    "colab": {
      "name": "hw5.ipynb",
      "provenance": [],
      "collapsed_sections": [],
      "toc_visible": true
    },
    "kernelspec": {
      "name": "python3",
      "display_name": "Python 3"
    }
  },
  "cells": [
    {
      "cell_type": "markdown",
      "metadata": {
        "id": "rSvLCmEF04DG"
      },
      "source": [
        "# Synchronize homework files"
      ]
    },
    {
      "cell_type": "code",
      "metadata": {
        "id": "KNamOwyJonVw"
      },
      "source": [
        "! rm -rf sample_data; curl -s https://raw.githubusercontent.com/mposa/MEAM517/master/sync_hw.py > sync_hw.py\n",
        "files = [\"find_throwing_trajectory.py\", \"dynamics_constraints.py\", \"kinematic_constraints.py\", \"planar_arm.urdf\"]\n",
        "\n",
        "from sync_hw import sync_hw\n",
        "sync_hw(5, files, False)"
      ],
      "execution_count": 1,
      "outputs": []
    },
    {
      "cell_type": "markdown",
      "metadata": {
        "id": "ey_rgiJd0vEH"
      },
      "source": [
        "# Install Drake and set up a server for the visualizer"
      ]
    },
    {
      "cell_type": "code",
      "metadata": {
        "id": "9QznZEmJ0qvu"
      },
      "source": [
        "# Install drake. We are using the lqr controller in drake as the final stabilizing controller.\n",
        "# The installation process will take about 2 minutes but it's only required in the start of the Colab's virtual machine.\n",
        "!curl -s https://raw.githubusercontent.com/mposa/MEAM517/master/colab_drake_setup.py > colab_drake_setup.py\n",
        "from colab_drake_setup import setup\n",
        "setup()\n",
        "\n",
        "# Install pyngrok.\n",
        "server_args = []\n",
        "!pip install pyngrok\n",
        "server_args = ['--ngrok_http_tunnel']\n",
        "\n",
        "# Start a single meshcat server instance to use for the remainder of this notebook.\n",
        "from meshcat.servers.zmqserver import start_zmq_server_as_subprocess\n",
        "proc, zmq_url, web_url = start_zmq_server_as_subprocess(server_args=server_args)"
      ],
      "execution_count": null,
      "outputs": []
    },
    {
      "cell_type": "markdown",
      "metadata": {
        "id": "x3Tcsjk83k0K"
      },
      "source": [
        "# Problem 4 - Trajectory Optimization for a planar arm"
      ]
    },
    {
      "cell_type": "markdown",
      "metadata": {
        "id": "sxazCuooK6NZ"
      },
      "source": [
        "## Compute the end effector (the ball) position and velocity using symbolic variables\n",
        "\n",
        "This is how we get the expression in `kinematic_constraints.py`"
      ]
    },
    {
      "cell_type": "code",
      "metadata": {
        "id": "pU1oSkHGXelL"
      },
      "source": [
        "# Computes the end effector velocity as xdot, ydot J_q (pos) * qdot\n",
        "\n",
        "from sympy import *\n",
        "import numpy as np\n",
        "\n",
        "l, q0, q1, q2, qdot0, qdot1, qdot2 = symbols('l q0 q1 q2 qdot0 qdot1 qdot2', real=True)\n",
        "pos = l * Matrix([sin(q0), -cos(q0)]) + \\\n",
        "      l * Matrix([sin(q0 + q1), -cos(q0 + q1)]) + \\\n",
        "      l * Matrix([sin(q0 + q1 + q2), -cos(q0 + q1 + q2)])\n",
        "vel = Matrix(pos).jacobian([q0, q1, q2]) @ np.reshape(np.array([qdot0, qdot1, qdot2]), (3,1))\n",
        "\n",
        "print('pos (x_ball, z_ball):\\n', pos)\n",
        "print('')\n",
        "print('vel (x_ball dot, z_ball dot):\\n', vel)"
      ],
      "execution_count": null,
      "outputs": []
    },
    {
      "cell_type": "markdown",
      "metadata": {
        "id": "IytDsl_ZKyzv"
      },
      "source": [
        "## Run trajectory optimization to find the optimal trajectory"
      ]
    },
    {
      "cell_type": "code",
      "metadata": {
        "id": "LzA3hw7Rh2t_"
      },
      "source": [
        "import importlib\n",
        "import find_throwing_trajectory\n",
        "importlib.reload(find_throwing_trajectory)\n",
        "from find_throwing_trajectory import find_throwing_trajectory\n",
        "\n",
        "N = 7\n",
        "initial_state = np.zeros(6)\n",
        "tf = 5.0\n",
        "distance = 25.0\n",
        "x_traj, u_traj, prog, x_guess, u_guess = find_throwing_trajectory(N, initial_state, distance, tf)"
      ],
      "execution_count": null,
      "outputs": []
    },
    {
      "cell_type": "markdown",
      "metadata": {
        "id": "zJY35uB9Knbb"
      },
      "source": [
        "## Visualize the optimal trajectory\n",
        "Open the visualizer by clicking on the url in the output of this cell."
      ]
    },
    {
      "cell_type": "code",
      "metadata": {
        "id": "wH3531RbH_sS"
      },
      "source": [
        "%matplotlib notebook\n",
        "import matplotlib.pyplot as plt\n",
        "import numpy as np\n",
        "import time\n",
        "from pydrake.systems.framework import DiagramBuilder\n",
        "from pydrake.systems.analysis import Simulator\n",
        "from pydrake.systems.drawing import plot_system_graphviz\n",
        "\n",
        "from pydrake.all import ( \n",
        "  ConnectMeshcatVisualizer, DiagramBuilder, \n",
        "  Simulator\n",
        ")\n",
        "\n",
        "from pydrake.geometry import (\n",
        "  SceneGraph, ConnectDrakeVisualizer\n",
        ")\n",
        "\n",
        "from pydrake.common import FindResourceOrThrow\n",
        "from pydrake.multibody.plant import MultibodyPlant\n",
        "from pydrake.multibody.parsing import Parser\n",
        "from pydrake.systems.rendering import MultibodyPositionToGeometryPose\n",
        "from pydrake.systems.primitives import (\n",
        "  TrajectorySource,\n",
        "  Demultiplexer,\n",
        "  ConstantVectorSource\n",
        ")\n",
        "\n",
        "# Create a MultibodyPlant for the arm\n",
        "file_name = \"planar_arm.urdf\"\n",
        "builder = DiagramBuilder()\n",
        "scene_graph = builder.AddSystem(SceneGraph())\n",
        "planar_arm = builder.AddSystem(MultibodyPlant(0.0))\n",
        "planar_arm.RegisterAsSourceForSceneGraph(scene_graph)\n",
        "Parser(plant=planar_arm).AddModelFromFile(file_name)\n",
        "planar_arm.Finalize()\n",
        "\n",
        "# Create meshcat\n",
        "visualizer = ConnectMeshcatVisualizer(\n",
        "    builder, \n",
        "    scene_graph, \n",
        "    scene_graph.get_pose_bundle_output_port(),\n",
        "    zmq_url=zmq_url,\n",
        "    server_args=server_args)\n",
        "\n",
        "x_traj_source = builder.AddSystem(TrajectorySource(x_traj))\n",
        "u_traj_source = builder.AddSystem(TrajectorySource(u_traj))\n",
        "\n",
        "demux = builder.AddSystem(Demultiplexer(np.array([3, 3])))\n",
        "to_pose = builder.AddSystem(MultibodyPositionToGeometryPose(planar_arm))\n",
        "zero_inputs = builder.AddSystem(ConstantVectorSource(np.zeros(3)))\n",
        "\n",
        "builder.Connect(zero_inputs.get_output_port(), planar_arm.get_actuation_input_port())\n",
        "builder.Connect(x_traj_source.get_output_port(), demux.get_input_port())\n",
        "builder.Connect(demux.get_output_port(0), to_pose.get_input_port())\n",
        "builder.Connect(to_pose.get_output_port(), scene_graph.get_source_pose_port(planar_arm.get_source_id()))\n",
        "\n",
        "ConnectDrakeVisualizer(builder, scene_graph);\n",
        "\n",
        "diagram = builder.Build()\n",
        "diagram.set_name(\"diagram\")\n",
        "\n",
        "visualizer.load()\n",
        "print(\"\\n!!!Open the visualizer by clicking on the URL above!!!\")\n",
        "\n",
        "# Visualize the motion for `n_playback` times\n",
        "n_playback = 3\n",
        "for i in range(n_playback):\n",
        "  # Set up a simulator to run this diagram.\n",
        "  simulator = Simulator(diagram)\n",
        "  simulator.Initialize()\n",
        "  simulator.set_target_realtime_rate(1)\n",
        "  simulator.AdvanceTo(tf);\n",
        "  time.sleep(2)"
      ],
      "execution_count": 62,
      "outputs": []
    }
  ]
}
