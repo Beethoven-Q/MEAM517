{
  "nbformat": 4,
  "nbformat_minor": 0,
  "metadata": {
    "colab": {
      "name": "HW2.ipynb",
      "provenance": [],
      "collapsed_sections": []
    },
    "kernelspec": {
      "name": "python3",
      "display_name": "Python 3"
    }
  },
  "cells": [
    {
      "cell_type": "code",
      "metadata": {
        "id": "93ewQ7RBGUhS",
        "colab_type": "code",
        "colab": {}
      },
      "source": [
        "if 'google.colab' in str(get_ipython()):\n",
        "  !curl -s https://raw.githubusercontent.com/mposa/MEAM517/hw2/colab_drake_setup > jupyter_setup.py\n",
        "  from jupyter_setup import setup_drake\n",
        "  setup_drake()"
      ],
      "execution_count": null,
      "outputs": []
    },
    {
      "cell_type": "code",
      "metadata": {
        "id": "3Ula4gSrGaXp",
        "colab_type": "code",
        "colab": {}
      },
      "source": [
        "\"\"\"\n",
        "Synchronize homework files (copy files from google drive or github if no files exist in colab; otherwise, save files to the drive) \n",
        "\"\"\"\n",
        "if 'google.colab' in str(get_ipython()):\n",
        "  !curl -s https://raw.githubusercontent.com/mposa/MEAM517/hw2/hw2/sync_hw2.py > sync_hw2.py\n",
        "  from sync_hw2 import sync_hw2\n",
        "  sync_hw2()"
      ],
      "execution_count": null,
      "outputs": []
    },
    {
      "cell_type": "code",
      "metadata": {
        "id": "xiIcOHp6GbQX",
        "colab_type": "code",
        "colab": {}
      },
      "source": [
        "%matplotlib inline\n",
        "\n",
        "import numpy as np\n",
        "from math import sin, cos, pi\n",
        "from scipy.integrate import solve_ivp\n",
        "from trajectories import *\n",
        "import matplotlib.pyplot as plt\n",
        "\n",
        "from quad_sim import simulate_quadrotor\n",
        "from quadrotor import Quadrotor\n",
        "\n",
        "tf = pi;\n",
        "R = np.eye(2);\n",
        "Q = np.diag([10, 10, 1, 1, 1, 1]);\n",
        "Qf = Q;\n",
        "\n",
        "quadrotor = Quadrotor(Q, R, Qf, tf);\n",
        "\n",
        "x0 = 0.5 * np.ones((6,)) + x_d(0.0)\n",
        "x, u, t = simulate_quadrotor(x0, tf, quadrotor)\n",
        "plt.plot(x[:, 0], x[:, 1])\n",
        "\n",
        "n_samples = 1000\n",
        "t_samples = np.linspace(0.0, tf, n_samples)\n",
        "x_des = np.zeros((n_samples, 6))\n",
        "for i in range(t_samples.shape[0]):\n",
        "  x_des[i] = x_d(t_samples[i])\n",
        "plt.plot(x_des[:, 0], x_des[:, 1], label='desired trajectory')\n",
        "plt.plot(x[:, 0], x[:, 1], label='actual trajectory')\n",
        "plt.legend()\n",
        "plt.show()"
      ],
      "execution_count": null,
      "outputs": []
    }
  ]
}
