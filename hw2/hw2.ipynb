{
  "nbformat": 4,
  "nbformat_minor": 0,
  "metadata": {
    "colab": {
      "name": "HW2.ipynb",
      "provenance": [],
      "collapsed_sections": [],
      "toc_visible": true
    },
    "kernelspec": {
      "name": "python3",
      "display_name": "Python 3"
    }
  },
  "cells": [
    {
      "cell_type": "markdown",
      "metadata": {
        "id": "KJVkP-RaJrs0",
        "colab_type": "text"
      },
      "source": [
        "# Set up Drake and synchronize homework files\n",
        "Colab starts a new virtual machine for each jupyter notebook that the user opens up. This cell (first block of the code) installs a necessary library, Drake. This process takes about 1 to 2 minutes. \n",
        "\n",
        "The virtual machine session ends after a few hours of idle time, so be aware that **we cannot save files on the virtual machine permanently**! To get around this issue, this cell saves your homework files in your own Google Drive and creates shortcuts in virtual machine that link to the files in Google Drive. "
      ]
    },
    {
      "cell_type": "code",
      "metadata": {
        "id": "93ewQ7RBGUhS",
        "colab_type": "code",
        "colab": {}
      },
      "source": [
        "# Install Drake \n",
        "! curl -s https://raw.githubusercontent.com/mposa/MEAM517/master/colab_drake_setup.py > drake_setup.py\n",
        "from drake_setup import setup; setup()\n",
        "! rm -rf sample_data; rm -f drake.tar.gz; rm -f drake_setup.py\n",
        "\n",
        "# Synchronize homework files (link to google drive's hw files; if hw files don't exist in google drive, download files from github) \n",
        "!curl -s https://raw.githubusercontent.com/mposa/MEAM517/master/sync_hw.py > sync_hw.py\n",
        "from sync_hw import sync_hw\n",
        "files = [\"quadrotor.py\", \"quad_sim.py\", \"trajectories.py\", \"create_animation.py\", \"grid_world.py\", \"value_iteration.py\", \"discretize_system.py\", \"double_integrator_value_iteration.py\"]\n",
        "sync_hw(2, files)"
      ],
      "execution_count": null,
      "outputs": []
    },
    {
      "cell_type": "markdown",
      "metadata": {
        "id": "BLdeLq-sJ4SL",
        "colab_type": "text"
      },
      "source": [
        "# Problem 2 -- Trajectory Tracking\n",
        "This cell simulates a quadrotor with the given controller (inside quadrotor.py) and visualizes the resultant trajectory.\n",
        "\n"
      ]
    },
    {
      "cell_type": "code",
      "metadata": {
        "id": "xiIcOHp6GbQX",
        "colab_type": "code",
        "colab": {}
      },
      "source": [
        "%matplotlib inline\n",
        "\n",
        "\"\"\"\n",
        "Simulate quadrotor\n",
        "\"\"\"\n",
        "\n",
        "import numpy as np\n",
        "from math import sin, cos, pi\n",
        "from scipy.integrate import solve_ivp\n",
        "from trajectories import *\n",
        "import matplotlib.pyplot as plt\n",
        "import importlib\n",
        "\n",
        "from quad_sim import simulate_quadrotor\n",
        "\n",
        "# Need to reload the module to use the latest code\n",
        "import quadrotor\n",
        "importlib.reload(quadrotor)\n",
        "from quadrotor import Quadrotor\n",
        "\n",
        "# Weights of LQR cost\n",
        "R = np.eye(2);\n",
        "Q = np.diag([10, 10, 1, 1, 1, 1]);\n",
        "Qf = Q;\n",
        "\n",
        "# End time of the simulation\n",
        "tf = 2*pi;\n",
        "\n",
        "# Construct our quadrotor controller \n",
        "quadrotor = Quadrotor(Q, R, Qf, tf);\n",
        "\n",
        "# Set quadrotor's initial state and simulate\n",
        "x0 = 0.5 * np.ones((6,)) + x_d(0.0)\n",
        "x, u, t = simulate_quadrotor(x0, tf, quadrotor)\n",
        "\n",
        "\"\"\"\n",
        "Create animation \n",
        "\"\"\"\n",
        "\n",
        "import create_animation\n",
        "importlib.reload(create_animation)\n",
        "from create_animation import create_animation\n",
        "\n",
        "# Number of poses to visualize\n",
        "n_frame = 30\n",
        "\n",
        "anim = create_animation(x, x_d, tf, n_frame)\n",
        "anim"
      ],
      "execution_count": null,
      "outputs": []
    },
    {
      "cell_type": "markdown",
      "metadata": {
        "id": "kvjwn9DToZIM",
        "colab_type": "text"
      },
      "source": [
        "# Problem 3 -- Quadratic Cost Value Iteration"
      ]
    },
    {
      "cell_type": "code",
      "metadata": {
        "id": "VVr0qkMuofmt",
        "colab_type": "code",
        "colab": {}
      },
      "source": [
        "from grid_world import *\n",
        "import importlib\n",
        "\n",
        "# Need to reload the module to use the latest code\n",
        "import value_iteration\n",
        "importlib.reload(value_iteration)\n",
        "from value_iteration import value_iteration\n",
        "\n",
        "world = GridWorld() \n",
        "threshold = 0.0001\n",
        "gamma = 0.9\n",
        "# value_iteration(world, threshold, gamma, False)\n",
        "value_iteration(world, threshold, gamma, True)"
      ],
      "execution_count": null,
      "outputs": []
    }
  ]
}