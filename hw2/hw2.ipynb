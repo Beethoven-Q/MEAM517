{
  "nbformat": 4,
  "nbformat_minor": 0,
  "metadata": {
    "colab": {
      "name": "HW2.ipynb",
      "provenance": [],
      "collapsed_sections": [],
      "toc_visible": true
    },
    "kernelspec": {
      "name": "python3",
      "display_name": "Python 3"
    }
  },
  "cells": [
    {
      "cell_type": "markdown",
      "metadata": {
        "id": "KJVkP-RaJrs0",
        "colab_type": "text"
      },
      "source": [
        "# Synchronize homework files\n",
        "Colab starts a new virtual machine for each jupyter notebook that the user opens up, and the virtual machine session ends after a few hours of idle time, so be aware that **we cannot save files on the virtual machine permanently**! To get around this issue, this cell saves your homework files in your own Google Drive and creates shortcuts in virtual machine that link to the files in Google Drive. "
      ]
    },
    {
      "cell_type": "code",
      "metadata": {
        "id": "93ewQ7RBGUhS",
        "colab_type": "code",
        "colab": {}
      },
      "source": [
        "# Synchronize homework files (link to google drive's hw files; if hw files don't exist in google drive, download files from github) \n",
        "! rm -rf sample_data; curl -s https://raw.githubusercontent.com/mposa/MEAM517/master/sync_hw.py > sync_hw.py\n",
        "from sync_hw import sync_hw\n",
        "files = [\"quadrotor.py\", \"quad_sim.py\", \"trajectories.py\", \"create_animation.py\", \"grid_world.py\", \"value_iteration.py\", \"discretize_system.py\", \"double_integrator_value_iteration.py\"]\n",
        "sync_hw(2, files)"
      ],
      "execution_count": null,
      "outputs": []
    },
    {
      "cell_type": "markdown",
      "metadata": {
        "id": "BLdeLq-sJ4SL",
        "colab_type": "text"
      },
      "source": [
        "# Problem 2 -- Trajectory Tracking\n",
        "This cell simulates a quadrotor with the given controller (inside quadrotor.py) and visualizes the resultant trajectory.\n",
        "\n"
      ]
    },
    {
      "cell_type": "code",
      "metadata": {
        "id": "xiIcOHp6GbQX",
        "colab_type": "code",
        "colab": {}
      },
      "source": [
        "%matplotlib inline\n",
        "\n",
        "\"\"\"\n",
        "Simulate quadrotor\n",
        "\"\"\"\n",
        "\n",
        "import numpy as np\n",
        "from math import sin, cos, pi\n",
        "from scipy.integrate import solve_ivp\n",
        "from trajectories import *\n",
        "import matplotlib.pyplot as plt\n",
        "import importlib\n",
        "\n",
        "from quad_sim import simulate_quadrotor\n",
        "\n",
        "# Need to reload the module to use the latest code\n",
        "import quadrotor\n",
        "importlib.reload(quadrotor)\n",
        "from quadrotor import Quadrotor\n",
        "\n",
        "# Weights of LQR cost\n",
        "R = np.eye(2);\n",
        "Q = np.diag([10, 10, 1, 1, 1, 1]);\n",
        "Qf = Q;\n",
        "\n",
        "# End time of the simulation\n",
        "tf = 2*pi;\n",
        "\n",
        "# Construct our quadrotor controller \n",
        "quadrotor = Quadrotor(Q, R, Qf, tf);\n",
        "\n",
        "# Set quadrotor's initial state and simulate\n",
        "x0 = 0.5 * np.ones((6,)) + x_d(0.0)\n",
        "x, u, t = simulate_quadrotor(x0, tf, quadrotor)\n",
        "\n",
        "\"\"\"\n",
        "Create animation \n",
        "\"\"\"\n",
        "import create_animation\n",
        "importlib.reload(create_animation)\n",
        "from create_animation import create_animation\n",
        "\n",
        "# Number of poses to visualize \n",
        "# TODO: set this value to 60 for the final plots\n",
        "n_frame = 30\n",
        "\n",
        "anim, fig = create_animation(x, x_d, tf, n_frame)\n",
        "plt.close()\n",
        "anim"
      ],
      "execution_count": null,
      "outputs": []
    },
    {
      "cell_type": "markdown",
      "metadata": {
        "id": "K7bKwoGb3cMa",
        "colab_type": "text"
      },
      "source": [
        "\n",
        "\n",
        "\n",
        "## Save the final trajectory to the colab workspace\n",
        "The figure should show up in the files browser on the left handside. If you don't see it, hit the refresh button. \n",
        "\n"
      ]
    },
    {
      "cell_type": "code",
      "metadata": {
        "id": "A9kVzXn-3agB",
        "colab_type": "code",
        "colab": {}
      },
      "source": [
        "# Save the trajectory figure to workspace\n",
        "# Remember to download the figure of either stable/unstable trajectory before overwriting the previous one\n",
        "fig.savefig(\"quadrotor_trajectory.png\", dpi=240)\n"
      ],
      "execution_count": null,
      "outputs": []
    },
    {
      "cell_type": "markdown",
      "metadata": {
        "id": "kvjwn9DToZIM",
        "colab_type": "text"
      },
      "source": [
        "# Problem 3 -- Gridworld Value Iteration"
      ]
    },
    {
      "cell_type": "code",
      "metadata": {
        "id": "VVr0qkMuofmt",
        "colab_type": "code",
        "colab": {}
      },
      "source": [
        "%matplotlib inline\n",
        "import importlib\n",
        "\n",
        "import grid_world\n",
        "importlib.reload(grid_world)\n",
        "from grid_world import GridWorld\n",
        "\n",
        "# Need to reload the module to use the latest code\n",
        "import value_iteration\n",
        "importlib.reload(value_iteration)\n",
        "from value_iteration import value_iteration\n",
        "\n",
        "world = GridWorld() \n",
        "threshold = 0.0001\n",
        "gamma = 0.9\n",
        "\n",
        "# Run value iteration and save the plot\n",
        "V, u_opt = value_iteration(world, threshold, gamma, plotting = True)"
      ],
      "execution_count": null,
      "outputs": []
    },
    {
      "cell_type": "markdown",
      "metadata": {
        "id": "GVKd1ZXkM7Lh",
        "colab_type": "text"
      },
      "source": [
        "# Problem 4 -- Quadratic Cost Value Iteration"
      ]
    },
    {
      "cell_type": "code",
      "metadata": {
        "id": "I2TNWtkCM6sT",
        "colab_type": "code",
        "colab": {}
      },
      "source": [
        "%matplotlib inline\n",
        "import importlib\n",
        "import double_integrator_value_iteration\n",
        "\n",
        "# Need to reload the module to use the latest code\n",
        "importlib.reload(double_integrator_value_iteration)\n",
        "from double_integrator_value_iteration import run_iteration\n",
        "\n",
        "# Run value iteration and return four plots:\n",
        "#   fig1 shows V_tilde_star (value function from value iteration)\n",
        "#   fig2 shows u_tilde_star (optimal policy from value iteration)\n",
        "#   fig3 shows V_tilde_star - V_star\n",
        "#   fig4 shows u_tilde_star - u_star\n",
        "fig1, fig2, fig3, fig4 = run_iteration()\n",
        "plt.show();\n",
        "\n",
        "# Save the plots for submission\n",
        "fig3.savefig(\"dV.png\", dpi=240)\n",
        "fig4.savefig(\"du.png\", dpi=240)"
      ],
      "execution_count": null,
      "outputs": []
    }
  ]
}