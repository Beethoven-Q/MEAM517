{
  "nbformat": 4,
  "nbformat_minor": 0,
  "metadata": {
    "colab": {
      "name": "HW2 V2.ipynb",
      "provenance": [],
      "collapsed_sections": [],
      "toc_visible": true
    },
    "kernelspec": {
      "name": "python3",
      "display_name": "Python 3"
    }
  },
  "cells": [
    {
      "cell_type": "markdown",
      "metadata": {
        "id": "KJVkP-RaJrs0",
        "colab_type": "text"
      },
      "source": [
        "# Set up Drake and synchronize homework files\n",
        "Colab starts a new virtual machine for each jupyter notebook that the user opens up. This cell (first block of the code) installs a necessary library, Drake. This process takes about 1 to 2 minutes. \n",
        "\n",
        "The virtual machine session ends after a few hours of idle time, so be aware that **we cannot save files on the virtual machine permanently**! To get around this issue, this cell saves your homework files in your own Google Drive and creates shortcuts in virtual machine that link to the files in Google Drive. "
      ]
    },
    {
      "cell_type": "code",
      "metadata": {
        "id": "93ewQ7RBGUhS",
        "colab_type": "code",
        "colab": {}
      },
      "source": [
        "# Install Drake \n",
        "! curl -s https://raw.githubusercontent.com/mposa/MEAM517/hw2/colab_drake_setup.py > drake_setup.py\n",
        "from drake_setup import setup; setup()\n",
        "! rm -rf sample_data; rm -f drake.tar.gz; rm -f drake_setup.py\n",
        "\n",
        "# Synchronize homework files (link to google drive's hw files; if hw files don't exist in google drive, download files from github first) \n",
        "!curl -s https://raw.githubusercontent.com/mposa/MEAM517/hw2/sync_hw.py > sync_hw.py\n",
        "from sync_hw import sync_hw\n",
        "files = [\"quadrotor.py\", \"quad_sim.py\", \"trajectories.py\", \"grid_world.py\", \"value_iteration.py\"]\n",
        "sync_hw(2, files)"
      ],
      "execution_count": null,
      "outputs": []
    },
    {
      "cell_type": "markdown",
      "metadata": {
        "id": "BLdeLq-sJ4SL",
        "colab_type": "text"
      },
      "source": [
        "# Run quadrotor simulation"
      ]
    },
    {
      "cell_type": "code",
      "metadata": {
        "id": "xiIcOHp6GbQX",
        "colab_type": "code",
        "colab": {}
      },
      "source": [
        "%matplotlib inline\n",
        "\n",
        "import numpy as np\n",
        "from math import sin, cos, pi\n",
        "from scipy.integrate import solve_ivp\n",
        "from trajectories import *\n",
        "import matplotlib.pyplot as plt\n",
        "import importlib\n",
        "\n",
        "from quad_sim import simulate_quadrotor\n",
        "\n",
        "# Need to reload the module to use the latest code\n",
        "import quadrotor\n",
        "importlib.reload(quadrotor)\n",
        "from quadrotor import Quadrotor\n",
        "\n",
        "tf = pi;\n",
        "R = np.eye(2);\n",
        "Q = np.diag([10, 10, 1, 1, 1, 1]);\n",
        "Qf = Q;\n",
        "\n",
        "quadrotor = Quadrotor(Q, R, Qf, tf);\n",
        "\n",
        "x0 = 0.5 * np.ones((6,)) + x_d(0.0)\n",
        "x, u, t = simulate_quadrotor(x0, tf, quadrotor)\n",
        "plt.plot(x[:, 0], x[:, 1])\n",
        "\n",
        "n_samples = 1000\n",
        "t_samples = np.linspace(0.0, tf, n_samples)\n",
        "x_des = np.zeros((n_samples, 6))\n",
        "for i in range(t_samples.shape[0]):\n",
        "  x_des[i] = x_d(t_samples[i])\n",
        "plt.plot(x_des[:, 0], x_des[:, 1], label='desired trajectory')\n",
        "plt.plot(x[:, 0], x[:, 1], label='actual trajectory')\n",
        "plt.legend()\n",
        "plt.show()"
      ],
      "execution_count": null,
      "outputs": []
    }
  ]
}