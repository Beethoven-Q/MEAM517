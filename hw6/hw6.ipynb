{
  "nbformat": 4,
  "nbformat_minor": 0,
  "metadata": {
    "colab": {
      "name": "hw6.ipynb",
      "provenance": [],
      "collapsed_sections": [],
      "toc_visible": true
    },
    "kernelspec": {
      "name": "python3",
      "display_name": "Python 3"
    }
  },
  "cells": [
    {
      "cell_type": "markdown",
      "metadata": {
        "id": "rSvLCmEF04DG"
      },
      "source": [
        "# Synchronize homework files"
      ]
    },
    {
      "cell_type": "code",
      "metadata": {
        "id": "KNamOwyJonVw"
      },
      "source": [
        "! rm -rf sample_data; curl -s https://raw.githubusercontent.com/mposa/MEAM517/master/sync_hw.py > sync_hw.py\n",
        "files = [\"quadrotor.py\", \"stability_analysis.py\", \"create_animation.py\", \"quad_sim.py\"]\n",
        "\n",
        "from sync_hw import sync_hw\n",
        "sync_hw(6, files, True)"
      ],
      "execution_count": null,
      "outputs": []
    },
    {
      "cell_type": "markdown",
      "metadata": {
        "id": "ey_rgiJd0vEH"
      },
      "source": [
        "# Install Drake and set up a server for the visualizer"
      ]
    },
    {
      "cell_type": "code",
      "metadata": {
        "id": "9QznZEmJ0qvu"
      },
      "source": [
        "# Install drake. We are using the lqr controller in drake as the final stabilizing controller.\n",
        "# The installation process will take about 2 minutes but it's only required in the start of the Colab's virtual machine.\n",
        "!curl -s https://raw.githubusercontent.com/mposa/MEAM517/master/colab_drake_setup.py > colab_drake_setup.py\n",
        "from colab_drake_setup import setup\n",
        "setup()"
      ],
      "execution_count": null,
      "outputs": []
    },
    {
      "cell_type": "markdown",
      "metadata": {
        "id": "x3Tcsjk83k0K"
      },
      "source": [
        "# Problem 1 - Model Predictive Control"
      ]
    },
    {
      "cell_type": "markdown",
      "metadata": {
        "id": "sClElH45gafw"
      },
      "source": [
        "Creates the Quadrotor object and loads in the animation code.\n",
        "\n",
        "**Re-run this block anytime you make change to `quadrotor.py`.**"
      ]
    },
    {
      "cell_type": "code",
      "metadata": {
        "id": "RGm3u6Hgy9IS"
      },
      "source": [
        "%matplotlib inline\n",
        "\n",
        "\"\"\"\n",
        "Simulate quadrotor\n",
        "\"\"\"\n",
        "\n",
        "import numpy as np\n",
        "from math import sin, cos, pi\n",
        "from scipy.integrate import solve_ivp\n",
        "import matplotlib.pyplot as plt\n",
        "import importlib\n",
        "\n",
        "from quad_sim import simulate_quadrotor\n",
        "\n",
        "# Need to reload the module to use the latest code\n",
        "import quadrotor\n",
        "importlib.reload(quadrotor)\n",
        "from quadrotor import Quadrotor\n",
        "\n",
        "\"\"\"\n",
        "Load in the animation function\n",
        "\"\"\"\n",
        "import create_animation\n",
        "importlib.reload(create_animation)\n",
        "from create_animation import create_animation\n",
        "\n",
        "# Weights of LQR cost\n",
        "R = np.eye(2);\n",
        "Q = np.diag([10, 10, 1, 1, 1, 1]);\n",
        "Qf = Q;\n",
        "\n",
        "# End time of the simulation\n",
        "tf = 10;\n",
        "\n",
        "# Construct our quadrotor controller \n",
        "quadrotor = Quadrotor(Q, R, Qf);"
      ],
      "execution_count": null,
      "outputs": []
    },
    {
      "cell_type": "markdown",
      "metadata": {
        "id": "XZ8AYhC9zces"
      },
      "source": [
        "## Simulate the quadrotor using MPC as the controller\n"
      ]
    },
    {
      "cell_type": "code",
      "metadata": {
        "id": "pU1oSkHGXelL"
      },
      "source": [
        "# Set quadrotor's initial state and simulate\n",
        "x0 = np.array([0.5, 0.5, 0, 1, 1, 0])\n",
        "x, u, t = simulate_quadrotor(x0, tf, quadrotor)\n",
        "\n",
        "anim, fig = create_animation(x, tf)\n",
        "plt.close()\n",
        "anim"
      ],
      "execution_count": null,
      "outputs": []
    },
    {
      "cell_type": "markdown",
      "metadata": {
        "id": "I9jK3d19ig5y"
      },
      "source": [
        "## Simulate the quadrotor using LQR as the controller (Already implemented)"
      ]
    },
    {
      "cell_type": "code",
      "metadata": {
        "id": "ub4VPNi1igXX"
      },
      "source": [
        "# Set quadrotor's initial state and simulate\n",
        "x0 = np.array([0.5, 0.5, 0, 1, 1, 0])\n",
        "x, u, t = simulate_quadrotor(x0, tf, quadrotor, False)\n",
        "\n",
        "anim, fig = create_animation(x, tf)\n",
        "plt.close()\n",
        "anim"
      ],
      "execution_count": null,
      "outputs": []
    },
    {
      "cell_type": "markdown",
      "metadata": {
        "id": "IytDsl_ZKyzv"
      },
      "source": [
        "# Problem 2 - Stability Analysis using Sums of Squares"
      ]
    },
    {
      "cell_type": "code",
      "metadata": {
        "id": "MfOFRW5LROG6"
      },
      "source": [
        "# Need to reload the module to use the latest code\n",
        "import stability_analysis\n",
        "importlib.reload(stability_analysis)\n",
        "from stability_analysis import *\n",
        "\n",
        "S_sol = stability_analysis.compute_region_of_attraction(quadrotor)\n",
        "np.save('S_sol', S_sol)\n",
        "stability_analysis.visualize_region_of_attraction(S_sol)"
      ],
      "execution_count": null,
      "outputs": []
    },
    {
      "cell_type": "markdown",
      "metadata": {
        "id": "ll9_VUaJROpB"
      },
      "source": [
        "# Problem 3 - Control Lyapunov Functions"
      ]
    },
    {
      "cell_type": "markdown",
      "metadata": {
        "id": "jMzMLfHoRdQY"
      },
      "source": [
        "## MPC with CLF"
      ]
    },
    {
      "cell_type": "code",
      "metadata": {
        "id": "LzA3hw7Rh2t_"
      },
      "source": [
        "# Set quadrotor's initial state and simulate\n",
        "x0 = np.array([0.5, 0.5, 0, 1, 1, 0])\n",
        "x, u, t = simulate_quadrotor(x0, tf, quadrotor, True, True, False)\n",
        "\n",
        "anim, fig = create_animation(x, tf)\n",
        "plt.close()\n",
        "anim"
      ],
      "execution_count": null,
      "outputs": []
    },
    {
      "cell_type": "markdown",
      "metadata": {
        "id": "zJY35uB9Knbb"
      },
      "source": [
        "# QP with CLF"
      ]
    },
    {
      "cell_type": "code",
      "metadata": {
        "id": "wH3531RbH_sS"
      },
      "source": [
        "# Set quadrotor's initial state and simulate using QP CLF as the controller\n",
        "x0 = np.array([0.5, 0.5, 0, 0, 0, 0])\n",
        "x, u, t = simulate_quadrotor(x0, tf, quadrotor, use_mpc=False, use_mpc_with_clf=False, use_clf_qp=True)\n",
        "\n",
        "anim, fig = create_animation(x, tf)\n",
        "plt.close()\n",
        "anim"
      ],
      "execution_count": null,
      "outputs": []
    }
  ]
}